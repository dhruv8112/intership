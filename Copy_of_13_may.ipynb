{
  "cells": [
    {
      "cell_type": "markdown",
      "metadata": {
        "id": "view-in-github",
        "colab_type": "text"
      },
      "source": [
        "<a href=\"https://colab.research.google.com/github/dhruv8112/intership/blob/main/Copy_of_13_may.ipynb\" target=\"_parent\"><img src=\"https://colab.research.google.com/assets/colab-badge.svg\" alt=\"Open In Colab\"/></a>"
      ]
    },
    {
      "cell_type": "code",
      "execution_count": null,
      "metadata": {
        "colab": {
          "base_uri": "https://localhost:8080/",
          "height": 1000
        },
        "id": "BDo71hEdjNSn",
        "outputId": "74a214cd-6aae-418a-bc61-6dafdb5a411a"
      },
      "outputs": [
        {
          "name": "stdout",
          "output_type": "stream",
          "text": [
            "Failed to read file with encoding: utf-8-sig\n",
            "File read successfully with encoding: latin1\n"
          ]
        },
        {
          "data": {
            "application/vnd.google.colaboratory.intrinsic+json": {
              "type": "dataframe",
              "variable_name": "df"
            },
            "text/html": [
              "\n",
              "  <div id=\"df-8c38e0b0-9556-41ae-9279-f3272c86e69b\" class=\"colab-df-container\">\n",
              "    <div>\n",
              "<style scoped>\n",
              "    .dataframe tbody tr th:only-of-type {\n",
              "        vertical-align: middle;\n",
              "    }\n",
              "\n",
              "    .dataframe tbody tr th {\n",
              "        vertical-align: top;\n",
              "    }\n",
              "\n",
              "    .dataframe thead th {\n",
              "        text-align: right;\n",
              "    }\n",
              "</style>\n",
              "<table border=\"1\" class=\"dataframe\">\n",
              "  <thead>\n",
              "    <tr style=\"text-align: right;\">\n",
              "      <th></th>\n",
              "      <th>Restaurant ID</th>\n",
              "      <th>Restaurant Name</th>\n",
              "      <th>Country Code</th>\n",
              "      <th>City</th>\n",
              "      <th>Address</th>\n",
              "      <th>Locality</th>\n",
              "      <th>Locality Verbose</th>\n",
              "      <th>Longitude</th>\n",
              "      <th>Latitude</th>\n",
              "      <th>Cuisines</th>\n",
              "      <th>...</th>\n",
              "      <th>Currency</th>\n",
              "      <th>Has Table booking</th>\n",
              "      <th>Has Online delivery</th>\n",
              "      <th>Is delivering now</th>\n",
              "      <th>Switch to order menu</th>\n",
              "      <th>Price range</th>\n",
              "      <th>Aggregate rating</th>\n",
              "      <th>Rating color</th>\n",
              "      <th>Rating text</th>\n",
              "      <th>Votes</th>\n",
              "    </tr>\n",
              "  </thead>\n",
              "  <tbody>\n",
              "    <tr>\n",
              "      <th>0</th>\n",
              "      <td>6317637</td>\n",
              "      <td>Le Petit Souffle</td>\n",
              "      <td>162</td>\n",
              "      <td>Makati City</td>\n",
              "      <td>Third Floor, Century City Mall, Kalayaan Avenu...</td>\n",
              "      <td>Century City Mall, Poblacion, Makati City</td>\n",
              "      <td>Century City Mall, Poblacion, Makati City, Mak...</td>\n",
              "      <td>121.027535</td>\n",
              "      <td>14.565443</td>\n",
              "      <td>French, Japanese, Desserts</td>\n",
              "      <td>...</td>\n",
              "      <td>Botswana Pula(P)</td>\n",
              "      <td>Yes</td>\n",
              "      <td>No</td>\n",
              "      <td>No</td>\n",
              "      <td>No</td>\n",
              "      <td>3</td>\n",
              "      <td>4.8</td>\n",
              "      <td>Dark Green</td>\n",
              "      <td>Excellent</td>\n",
              "      <td>314</td>\n",
              "    </tr>\n",
              "    <tr>\n",
              "      <th>1</th>\n",
              "      <td>6304287</td>\n",
              "      <td>Izakaya Kikufuji</td>\n",
              "      <td>162</td>\n",
              "      <td>Makati City</td>\n",
              "      <td>Little Tokyo, 2277 Chino Roces Avenue, Legaspi...</td>\n",
              "      <td>Little Tokyo, Legaspi Village, Makati City</td>\n",
              "      <td>Little Tokyo, Legaspi Village, Makati City, Ma...</td>\n",
              "      <td>121.014101</td>\n",
              "      <td>14.553708</td>\n",
              "      <td>Japanese</td>\n",
              "      <td>...</td>\n",
              "      <td>Botswana Pula(P)</td>\n",
              "      <td>Yes</td>\n",
              "      <td>No</td>\n",
              "      <td>No</td>\n",
              "      <td>No</td>\n",
              "      <td>3</td>\n",
              "      <td>4.5</td>\n",
              "      <td>Dark Green</td>\n",
              "      <td>Excellent</td>\n",
              "      <td>591</td>\n",
              "    </tr>\n",
              "    <tr>\n",
              "      <th>2</th>\n",
              "      <td>6300002</td>\n",
              "      <td>Heat - Edsa Shangri-La</td>\n",
              "      <td>162</td>\n",
              "      <td>Mandaluyong City</td>\n",
              "      <td>Edsa Shangri-La, 1 Garden Way, Ortigas, Mandal...</td>\n",
              "      <td>Edsa Shangri-La, Ortigas, Mandaluyong City</td>\n",
              "      <td>Edsa Shangri-La, Ortigas, Mandaluyong City, Ma...</td>\n",
              "      <td>121.056831</td>\n",
              "      <td>14.581404</td>\n",
              "      <td>Seafood, Asian, Filipino, Indian</td>\n",
              "      <td>...</td>\n",
              "      <td>Botswana Pula(P)</td>\n",
              "      <td>Yes</td>\n",
              "      <td>No</td>\n",
              "      <td>No</td>\n",
              "      <td>No</td>\n",
              "      <td>4</td>\n",
              "      <td>4.4</td>\n",
              "      <td>Green</td>\n",
              "      <td>Very Good</td>\n",
              "      <td>270</td>\n",
              "    </tr>\n",
              "    <tr>\n",
              "      <th>3</th>\n",
              "      <td>6318506</td>\n",
              "      <td>Ooma</td>\n",
              "      <td>162</td>\n",
              "      <td>Mandaluyong City</td>\n",
              "      <td>Third Floor, Mega Fashion Hall, SM Megamall, O...</td>\n",
              "      <td>SM Megamall, Ortigas, Mandaluyong City</td>\n",
              "      <td>SM Megamall, Ortigas, Mandaluyong City, Mandal...</td>\n",
              "      <td>121.056475</td>\n",
              "      <td>14.585318</td>\n",
              "      <td>Japanese, Sushi</td>\n",
              "      <td>...</td>\n",
              "      <td>Botswana Pula(P)</td>\n",
              "      <td>No</td>\n",
              "      <td>No</td>\n",
              "      <td>No</td>\n",
              "      <td>No</td>\n",
              "      <td>4</td>\n",
              "      <td>4.9</td>\n",
              "      <td>Dark Green</td>\n",
              "      <td>Excellent</td>\n",
              "      <td>365</td>\n",
              "    </tr>\n",
              "    <tr>\n",
              "      <th>4</th>\n",
              "      <td>6314302</td>\n",
              "      <td>Sambo Kojin</td>\n",
              "      <td>162</td>\n",
              "      <td>Mandaluyong City</td>\n",
              "      <td>Third Floor, Mega Atrium, SM Megamall, Ortigas...</td>\n",
              "      <td>SM Megamall, Ortigas, Mandaluyong City</td>\n",
              "      <td>SM Megamall, Ortigas, Mandaluyong City, Mandal...</td>\n",
              "      <td>121.057508</td>\n",
              "      <td>14.584450</td>\n",
              "      <td>Japanese, Korean</td>\n",
              "      <td>...</td>\n",
              "      <td>Botswana Pula(P)</td>\n",
              "      <td>Yes</td>\n",
              "      <td>No</td>\n",
              "      <td>No</td>\n",
              "      <td>No</td>\n",
              "      <td>4</td>\n",
              "      <td>4.8</td>\n",
              "      <td>Dark Green</td>\n",
              "      <td>Excellent</td>\n",
              "      <td>229</td>\n",
              "    </tr>\n",
              "    <tr>\n",
              "      <th>...</th>\n",
              "      <td>...</td>\n",
              "      <td>...</td>\n",
              "      <td>...</td>\n",
              "      <td>...</td>\n",
              "      <td>...</td>\n",
              "      <td>...</td>\n",
              "      <td>...</td>\n",
              "      <td>...</td>\n",
              "      <td>...</td>\n",
              "      <td>...</td>\n",
              "      <td>...</td>\n",
              "      <td>...</td>\n",
              "      <td>...</td>\n",
              "      <td>...</td>\n",
              "      <td>...</td>\n",
              "      <td>...</td>\n",
              "      <td>...</td>\n",
              "      <td>...</td>\n",
              "      <td>...</td>\n",
              "      <td>...</td>\n",
              "      <td>...</td>\n",
              "    </tr>\n",
              "    <tr>\n",
              "      <th>9546</th>\n",
              "      <td>5915730</td>\n",
              "      <td>NamlÛ± Gurme</td>\n",
              "      <td>208</td>\n",
              "      <td>ÛÁstanbul</td>\n",
              "      <td>Kemankeô Karamustafa Paôa Mahallesi, RÛ±htÛ±...</td>\n",
              "      <td>Karakí_y</td>\n",
              "      <td>Karakí_y, ÛÁstanbul</td>\n",
              "      <td>28.977392</td>\n",
              "      <td>41.022793</td>\n",
              "      <td>Turkish</td>\n",
              "      <td>...</td>\n",
              "      <td>Turkish Lira(TL)</td>\n",
              "      <td>No</td>\n",
              "      <td>No</td>\n",
              "      <td>No</td>\n",
              "      <td>No</td>\n",
              "      <td>3</td>\n",
              "      <td>4.1</td>\n",
              "      <td>Green</td>\n",
              "      <td>Very Good</td>\n",
              "      <td>788</td>\n",
              "    </tr>\n",
              "    <tr>\n",
              "      <th>9547</th>\n",
              "      <td>5908749</td>\n",
              "      <td>Ceviz AÛôacÛ±</td>\n",
              "      <td>208</td>\n",
              "      <td>ÛÁstanbul</td>\n",
              "      <td>Koôuyolu Mahallesi, Muhittin íìstí_ndaÛô Cadd...</td>\n",
              "      <td>Koôuyolu</td>\n",
              "      <td>Koôuyolu, ÛÁstanbul</td>\n",
              "      <td>29.041297</td>\n",
              "      <td>41.009847</td>\n",
              "      <td>World Cuisine, Patisserie, Cafe</td>\n",
              "      <td>...</td>\n",
              "      <td>Turkish Lira(TL)</td>\n",
              "      <td>No</td>\n",
              "      <td>No</td>\n",
              "      <td>No</td>\n",
              "      <td>No</td>\n",
              "      <td>3</td>\n",
              "      <td>4.2</td>\n",
              "      <td>Green</td>\n",
              "      <td>Very Good</td>\n",
              "      <td>1034</td>\n",
              "    </tr>\n",
              "    <tr>\n",
              "      <th>9548</th>\n",
              "      <td>5915807</td>\n",
              "      <td>Huqqa</td>\n",
              "      <td>208</td>\n",
              "      <td>ÛÁstanbul</td>\n",
              "      <td>Kuruí_eôme Mahallesi, Muallim Naci Caddesi, N...</td>\n",
              "      <td>Kuruí_eôme</td>\n",
              "      <td>Kuruí_eôme, ÛÁstanbul</td>\n",
              "      <td>29.034640</td>\n",
              "      <td>41.055817</td>\n",
              "      <td>Italian, World Cuisine</td>\n",
              "      <td>...</td>\n",
              "      <td>Turkish Lira(TL)</td>\n",
              "      <td>No</td>\n",
              "      <td>No</td>\n",
              "      <td>No</td>\n",
              "      <td>No</td>\n",
              "      <td>4</td>\n",
              "      <td>3.7</td>\n",
              "      <td>Yellow</td>\n",
              "      <td>Good</td>\n",
              "      <td>661</td>\n",
              "    </tr>\n",
              "    <tr>\n",
              "      <th>9549</th>\n",
              "      <td>5916112</td>\n",
              "      <td>Aôôk Kahve</td>\n",
              "      <td>208</td>\n",
              "      <td>ÛÁstanbul</td>\n",
              "      <td>Kuruí_eôme Mahallesi, Muallim Naci Caddesi, N...</td>\n",
              "      <td>Kuruí_eôme</td>\n",
              "      <td>Kuruí_eôme, ÛÁstanbul</td>\n",
              "      <td>29.036019</td>\n",
              "      <td>41.057979</td>\n",
              "      <td>Restaurant Cafe</td>\n",
              "      <td>...</td>\n",
              "      <td>Turkish Lira(TL)</td>\n",
              "      <td>No</td>\n",
              "      <td>No</td>\n",
              "      <td>No</td>\n",
              "      <td>No</td>\n",
              "      <td>4</td>\n",
              "      <td>4.0</td>\n",
              "      <td>Green</td>\n",
              "      <td>Very Good</td>\n",
              "      <td>901</td>\n",
              "    </tr>\n",
              "    <tr>\n",
              "      <th>9550</th>\n",
              "      <td>5927402</td>\n",
              "      <td>Walter's Coffee Roastery</td>\n",
              "      <td>208</td>\n",
              "      <td>ÛÁstanbul</td>\n",
              "      <td>CafeaÛôa Mahallesi, BademaltÛ± Sokak, No 21/B,...</td>\n",
              "      <td>Moda</td>\n",
              "      <td>Moda, ÛÁstanbul</td>\n",
              "      <td>29.026016</td>\n",
              "      <td>40.984776</td>\n",
              "      <td>Cafe</td>\n",
              "      <td>...</td>\n",
              "      <td>Turkish Lira(TL)</td>\n",
              "      <td>No</td>\n",
              "      <td>No</td>\n",
              "      <td>No</td>\n",
              "      <td>No</td>\n",
              "      <td>2</td>\n",
              "      <td>4.0</td>\n",
              "      <td>Green</td>\n",
              "      <td>Very Good</td>\n",
              "      <td>591</td>\n",
              "    </tr>\n",
              "  </tbody>\n",
              "</table>\n",
              "<p>9551 rows × 21 columns</p>\n",
              "</div>\n",
              "    <div class=\"colab-df-buttons\">\n",
              "\n",
              "  <div class=\"colab-df-container\">\n",
              "    <button class=\"colab-df-convert\" onclick=\"convertToInteractive('df-8c38e0b0-9556-41ae-9279-f3272c86e69b')\"\n",
              "            title=\"Convert this dataframe to an interactive table.\"\n",
              "            style=\"display:none;\">\n",
              "\n",
              "  <svg xmlns=\"http://www.w3.org/2000/svg\" height=\"24px\" viewBox=\"0 -960 960 960\">\n",
              "    <path d=\"M120-120v-720h720v720H120Zm60-500h600v-160H180v160Zm220 220h160v-160H400v160Zm0 220h160v-160H400v160ZM180-400h160v-160H180v160Zm440 0h160v-160H620v160ZM180-180h160v-160H180v160Zm440 0h160v-160H620v160Z\"/>\n",
              "  </svg>\n",
              "    </button>\n",
              "\n",
              "  <style>\n",
              "    .colab-df-container {\n",
              "      display:flex;\n",
              "      gap: 12px;\n",
              "    }\n",
              "\n",
              "    .colab-df-convert {\n",
              "      background-color: #E8F0FE;\n",
              "      border: none;\n",
              "      border-radius: 50%;\n",
              "      cursor: pointer;\n",
              "      display: none;\n",
              "      fill: #1967D2;\n",
              "      height: 32px;\n",
              "      padding: 0 0 0 0;\n",
              "      width: 32px;\n",
              "    }\n",
              "\n",
              "    .colab-df-convert:hover {\n",
              "      background-color: #E2EBFA;\n",
              "      box-shadow: 0px 1px 2px rgba(60, 64, 67, 0.3), 0px 1px 3px 1px rgba(60, 64, 67, 0.15);\n",
              "      fill: #174EA6;\n",
              "    }\n",
              "\n",
              "    .colab-df-buttons div {\n",
              "      margin-bottom: 4px;\n",
              "    }\n",
              "\n",
              "    [theme=dark] .colab-df-convert {\n",
              "      background-color: #3B4455;\n",
              "      fill: #D2E3FC;\n",
              "    }\n",
              "\n",
              "    [theme=dark] .colab-df-convert:hover {\n",
              "      background-color: #434B5C;\n",
              "      box-shadow: 0px 1px 3px 1px rgba(0, 0, 0, 0.15);\n",
              "      filter: drop-shadow(0px 1px 2px rgba(0, 0, 0, 0.3));\n",
              "      fill: #FFFFFF;\n",
              "    }\n",
              "  </style>\n",
              "\n",
              "    <script>\n",
              "      const buttonEl =\n",
              "        document.querySelector('#df-8c38e0b0-9556-41ae-9279-f3272c86e69b button.colab-df-convert');\n",
              "      buttonEl.style.display =\n",
              "        google.colab.kernel.accessAllowed ? 'block' : 'none';\n",
              "\n",
              "      async function convertToInteractive(key) {\n",
              "        const element = document.querySelector('#df-8c38e0b0-9556-41ae-9279-f3272c86e69b');\n",
              "        const dataTable =\n",
              "          await google.colab.kernel.invokeFunction('convertToInteractive',\n",
              "                                                    [key], {});\n",
              "        if (!dataTable) return;\n",
              "\n",
              "        const docLinkHtml = 'Like what you see? Visit the ' +\n",
              "          '<a target=\"_blank\" href=https://colab.research.google.com/notebooks/data_table.ipynb>data table notebook</a>'\n",
              "          + ' to learn more about interactive tables.';\n",
              "        element.innerHTML = '';\n",
              "        dataTable['output_type'] = 'display_data';\n",
              "        await google.colab.output.renderOutput(dataTable, element);\n",
              "        const docLink = document.createElement('div');\n",
              "        docLink.innerHTML = docLinkHtml;\n",
              "        element.appendChild(docLink);\n",
              "      }\n",
              "    </script>\n",
              "  </div>\n",
              "\n",
              "\n",
              "<div id=\"df-648a677a-0a68-4e69-8341-2fa7f5c4fbd0\">\n",
              "  <button class=\"colab-df-quickchart\" onclick=\"quickchart('df-648a677a-0a68-4e69-8341-2fa7f5c4fbd0')\"\n",
              "            title=\"Suggest charts\"\n",
              "            style=\"display:none;\">\n",
              "\n",
              "<svg xmlns=\"http://www.w3.org/2000/svg\" height=\"24px\"viewBox=\"0 0 24 24\"\n",
              "     width=\"24px\">\n",
              "    <g>\n",
              "        <path d=\"M19 3H5c-1.1 0-2 .9-2 2v14c0 1.1.9 2 2 2h14c1.1 0 2-.9 2-2V5c0-1.1-.9-2-2-2zM9 17H7v-7h2v7zm4 0h-2V7h2v10zm4 0h-2v-4h2v4z\"/>\n",
              "    </g>\n",
              "</svg>\n",
              "  </button>\n",
              "\n",
              "<style>\n",
              "  .colab-df-quickchart {\n",
              "      --bg-color: #E8F0FE;\n",
              "      --fill-color: #1967D2;\n",
              "      --hover-bg-color: #E2EBFA;\n",
              "      --hover-fill-color: #174EA6;\n",
              "      --disabled-fill-color: #AAA;\n",
              "      --disabled-bg-color: #DDD;\n",
              "  }\n",
              "\n",
              "  [theme=dark] .colab-df-quickchart {\n",
              "      --bg-color: #3B4455;\n",
              "      --fill-color: #D2E3FC;\n",
              "      --hover-bg-color: #434B5C;\n",
              "      --hover-fill-color: #FFFFFF;\n",
              "      --disabled-bg-color: #3B4455;\n",
              "      --disabled-fill-color: #666;\n",
              "  }\n",
              "\n",
              "  .colab-df-quickchart {\n",
              "    background-color: var(--bg-color);\n",
              "    border: none;\n",
              "    border-radius: 50%;\n",
              "    cursor: pointer;\n",
              "    display: none;\n",
              "    fill: var(--fill-color);\n",
              "    height: 32px;\n",
              "    padding: 0;\n",
              "    width: 32px;\n",
              "  }\n",
              "\n",
              "  .colab-df-quickchart:hover {\n",
              "    background-color: var(--hover-bg-color);\n",
              "    box-shadow: 0 1px 2px rgba(60, 64, 67, 0.3), 0 1px 3px 1px rgba(60, 64, 67, 0.15);\n",
              "    fill: var(--button-hover-fill-color);\n",
              "  }\n",
              "\n",
              "  .colab-df-quickchart-complete:disabled,\n",
              "  .colab-df-quickchart-complete:disabled:hover {\n",
              "    background-color: var(--disabled-bg-color);\n",
              "    fill: var(--disabled-fill-color);\n",
              "    box-shadow: none;\n",
              "  }\n",
              "\n",
              "  .colab-df-spinner {\n",
              "    border: 2px solid var(--fill-color);\n",
              "    border-color: transparent;\n",
              "    border-bottom-color: var(--fill-color);\n",
              "    animation:\n",
              "      spin 1s steps(1) infinite;\n",
              "  }\n",
              "\n",
              "  @keyframes spin {\n",
              "    0% {\n",
              "      border-color: transparent;\n",
              "      border-bottom-color: var(--fill-color);\n",
              "      border-left-color: var(--fill-color);\n",
              "    }\n",
              "    20% {\n",
              "      border-color: transparent;\n",
              "      border-left-color: var(--fill-color);\n",
              "      border-top-color: var(--fill-color);\n",
              "    }\n",
              "    30% {\n",
              "      border-color: transparent;\n",
              "      border-left-color: var(--fill-color);\n",
              "      border-top-color: var(--fill-color);\n",
              "      border-right-color: var(--fill-color);\n",
              "    }\n",
              "    40% {\n",
              "      border-color: transparent;\n",
              "      border-right-color: var(--fill-color);\n",
              "      border-top-color: var(--fill-color);\n",
              "    }\n",
              "    60% {\n",
              "      border-color: transparent;\n",
              "      border-right-color: var(--fill-color);\n",
              "    }\n",
              "    80% {\n",
              "      border-color: transparent;\n",
              "      border-right-color: var(--fill-color);\n",
              "      border-bottom-color: var(--fill-color);\n",
              "    }\n",
              "    90% {\n",
              "      border-color: transparent;\n",
              "      border-bottom-color: var(--fill-color);\n",
              "    }\n",
              "  }\n",
              "</style>\n",
              "\n",
              "  <script>\n",
              "    async function quickchart(key) {\n",
              "      const quickchartButtonEl =\n",
              "        document.querySelector('#' + key + ' button');\n",
              "      quickchartButtonEl.disabled = true;  // To prevent multiple clicks.\n",
              "      quickchartButtonEl.classList.add('colab-df-spinner');\n",
              "      try {\n",
              "        const charts = await google.colab.kernel.invokeFunction(\n",
              "            'suggestCharts', [key], {});\n",
              "      } catch (error) {\n",
              "        console.error('Error during call to suggestCharts:', error);\n",
              "      }\n",
              "      quickchartButtonEl.classList.remove('colab-df-spinner');\n",
              "      quickchartButtonEl.classList.add('colab-df-quickchart-complete');\n",
              "    }\n",
              "    (() => {\n",
              "      let quickchartButtonEl =\n",
              "        document.querySelector('#df-648a677a-0a68-4e69-8341-2fa7f5c4fbd0 button');\n",
              "      quickchartButtonEl.style.display =\n",
              "        google.colab.kernel.accessAllowed ? 'block' : 'none';\n",
              "    })();\n",
              "  </script>\n",
              "</div>\n",
              "\n",
              "  <div id=\"id_1236c084-587a-4a3e-8874-1761de9054bf\">\n",
              "    <style>\n",
              "      .colab-df-generate {\n",
              "        background-color: #E8F0FE;\n",
              "        border: none;\n",
              "        border-radius: 50%;\n",
              "        cursor: pointer;\n",
              "        display: none;\n",
              "        fill: #1967D2;\n",
              "        height: 32px;\n",
              "        padding: 0 0 0 0;\n",
              "        width: 32px;\n",
              "      }\n",
              "\n",
              "      .colab-df-generate:hover {\n",
              "        background-color: #E2EBFA;\n",
              "        box-shadow: 0px 1px 2px rgba(60, 64, 67, 0.3), 0px 1px 3px 1px rgba(60, 64, 67, 0.15);\n",
              "        fill: #174EA6;\n",
              "      }\n",
              "\n",
              "      [theme=dark] .colab-df-generate {\n",
              "        background-color: #3B4455;\n",
              "        fill: #D2E3FC;\n",
              "      }\n",
              "\n",
              "      [theme=dark] .colab-df-generate:hover {\n",
              "        background-color: #434B5C;\n",
              "        box-shadow: 0px 1px 3px 1px rgba(0, 0, 0, 0.15);\n",
              "        filter: drop-shadow(0px 1px 2px rgba(0, 0, 0, 0.3));\n",
              "        fill: #FFFFFF;\n",
              "      }\n",
              "    </style>\n",
              "    <button class=\"colab-df-generate\" onclick=\"generateWithVariable('df')\"\n",
              "            title=\"Generate code using this dataframe.\"\n",
              "            style=\"display:none;\">\n",
              "\n",
              "  <svg xmlns=\"http://www.w3.org/2000/svg\" height=\"24px\"viewBox=\"0 0 24 24\"\n",
              "       width=\"24px\">\n",
              "    <path d=\"M7,19H8.4L18.45,9,17,7.55,7,17.6ZM5,21V16.75L18.45,3.32a2,2,0,0,1,2.83,0l1.4,1.43a1.91,1.91,0,0,1,.58,1.4,1.91,1.91,0,0,1-.58,1.4L9.25,21ZM18.45,9,17,7.55Zm-12,3A5.31,5.31,0,0,0,4.9,8.1,5.31,5.31,0,0,0,1,6.5,5.31,5.31,0,0,0,4.9,4.9,5.31,5.31,0,0,0,6.5,1,5.31,5.31,0,0,0,8.1,4.9,5.31,5.31,0,0,0,12,6.5,5.46,5.46,0,0,0,6.5,12Z\"/>\n",
              "  </svg>\n",
              "    </button>\n",
              "    <script>\n",
              "      (() => {\n",
              "      const buttonEl =\n",
              "        document.querySelector('#id_1236c084-587a-4a3e-8874-1761de9054bf button.colab-df-generate');\n",
              "      buttonEl.style.display =\n",
              "        google.colab.kernel.accessAllowed ? 'block' : 'none';\n",
              "\n",
              "      buttonEl.onclick = () => {\n",
              "        google.colab.notebook.generateWithVariable('df');\n",
              "      }\n",
              "      })();\n",
              "    </script>\n",
              "  </div>\n",
              "\n",
              "    </div>\n",
              "  </div>\n"
            ],
            "text/plain": [
              "      Restaurant ID           Restaurant Name  Country Code              City  \\\n",
              "0           6317637          Le Petit Souffle           162       Makati City   \n",
              "1           6304287          Izakaya Kikufuji           162       Makati City   \n",
              "2           6300002    Heat - Edsa Shangri-La           162  Mandaluyong City   \n",
              "3           6318506                      Ooma           162  Mandaluyong City   \n",
              "4           6314302               Sambo Kojin           162  Mandaluyong City   \n",
              "...             ...                       ...           ...               ...   \n",
              "9546        5915730              NamlÛ± Gurme           208         ÛÁstanbul   \n",
              "9547        5908749             Ceviz AÛôacÛ±           208         ÛÁstanbul   \n",
              "9548        5915807                     Huqqa           208         ÛÁstanbul   \n",
              "9549        5916112              Aôôk Kahve           208         ÛÁstanbul   \n",
              "9550        5927402  Walter's Coffee Roastery           208         ÛÁstanbul   \n",
              "\n",
              "                                                Address  \\\n",
              "0     Third Floor, Century City Mall, Kalayaan Avenu...   \n",
              "1     Little Tokyo, 2277 Chino Roces Avenue, Legaspi...   \n",
              "2     Edsa Shangri-La, 1 Garden Way, Ortigas, Mandal...   \n",
              "3     Third Floor, Mega Fashion Hall, SM Megamall, O...   \n",
              "4     Third Floor, Mega Atrium, SM Megamall, Ortigas...   \n",
              "...                                                 ...   \n",
              "9546  Kemankeô Karamustafa Paôa Mahallesi, RÛ±htÛ±...   \n",
              "9547  Koôuyolu Mahallesi, Muhittin íìstí_ndaÛô Cadd...   \n",
              "9548  Kuruí_eôme Mahallesi, Muallim Naci Caddesi, N...   \n",
              "9549  Kuruí_eôme Mahallesi, Muallim Naci Caddesi, N...   \n",
              "9550  CafeaÛôa Mahallesi, BademaltÛ± Sokak, No 21/B,...   \n",
              "\n",
              "                                        Locality  \\\n",
              "0      Century City Mall, Poblacion, Makati City   \n",
              "1     Little Tokyo, Legaspi Village, Makati City   \n",
              "2     Edsa Shangri-La, Ortigas, Mandaluyong City   \n",
              "3         SM Megamall, Ortigas, Mandaluyong City   \n",
              "4         SM Megamall, Ortigas, Mandaluyong City   \n",
              "...                                          ...   \n",
              "9546                                    Karakí_y   \n",
              "9547                                   Koôuyolu   \n",
              "9548                                 Kuruí_eôme   \n",
              "9549                                 Kuruí_eôme   \n",
              "9550                                        Moda   \n",
              "\n",
              "                                       Locality Verbose   Longitude  \\\n",
              "0     Century City Mall, Poblacion, Makati City, Mak...  121.027535   \n",
              "1     Little Tokyo, Legaspi Village, Makati City, Ma...  121.014101   \n",
              "2     Edsa Shangri-La, Ortigas, Mandaluyong City, Ma...  121.056831   \n",
              "3     SM Megamall, Ortigas, Mandaluyong City, Mandal...  121.056475   \n",
              "4     SM Megamall, Ortigas, Mandaluyong City, Mandal...  121.057508   \n",
              "...                                                 ...         ...   \n",
              "9546                                Karakí_y, ÛÁstanbul   28.977392   \n",
              "9547                               Koôuyolu, ÛÁstanbul   29.041297   \n",
              "9548                             Kuruí_eôme, ÛÁstanbul   29.034640   \n",
              "9549                             Kuruí_eôme, ÛÁstanbul   29.036019   \n",
              "9550                                    Moda, ÛÁstanbul   29.026016   \n",
              "\n",
              "       Latitude                          Cuisines  ...          Currency  \\\n",
              "0     14.565443        French, Japanese, Desserts  ...  Botswana Pula(P)   \n",
              "1     14.553708                          Japanese  ...  Botswana Pula(P)   \n",
              "2     14.581404  Seafood, Asian, Filipino, Indian  ...  Botswana Pula(P)   \n",
              "3     14.585318                   Japanese, Sushi  ...  Botswana Pula(P)   \n",
              "4     14.584450                  Japanese, Korean  ...  Botswana Pula(P)   \n",
              "...         ...                               ...  ...               ...   \n",
              "9546  41.022793                           Turkish  ...  Turkish Lira(TL)   \n",
              "9547  41.009847   World Cuisine, Patisserie, Cafe  ...  Turkish Lira(TL)   \n",
              "9548  41.055817            Italian, World Cuisine  ...  Turkish Lira(TL)   \n",
              "9549  41.057979                   Restaurant Cafe  ...  Turkish Lira(TL)   \n",
              "9550  40.984776                              Cafe  ...  Turkish Lira(TL)   \n",
              "\n",
              "     Has Table booking Has Online delivery Is delivering now  \\\n",
              "0                  Yes                  No                No   \n",
              "1                  Yes                  No                No   \n",
              "2                  Yes                  No                No   \n",
              "3                   No                  No                No   \n",
              "4                  Yes                  No                No   \n",
              "...                ...                 ...               ...   \n",
              "9546                No                  No                No   \n",
              "9547                No                  No                No   \n",
              "9548                No                  No                No   \n",
              "9549                No                  No                No   \n",
              "9550                No                  No                No   \n",
              "\n",
              "     Switch to order menu Price range  Aggregate rating  Rating color  \\\n",
              "0                      No           3               4.8    Dark Green   \n",
              "1                      No           3               4.5    Dark Green   \n",
              "2                      No           4               4.4         Green   \n",
              "3                      No           4               4.9    Dark Green   \n",
              "4                      No           4               4.8    Dark Green   \n",
              "...                   ...         ...               ...           ...   \n",
              "9546                   No           3               4.1         Green   \n",
              "9547                   No           3               4.2         Green   \n",
              "9548                   No           4               3.7        Yellow   \n",
              "9549                   No           4               4.0         Green   \n",
              "9550                   No           2               4.0         Green   \n",
              "\n",
              "     Rating text Votes  \n",
              "0      Excellent   314  \n",
              "1      Excellent   591  \n",
              "2      Very Good   270  \n",
              "3      Excellent   365  \n",
              "4      Excellent   229  \n",
              "...          ...   ...  \n",
              "9546   Very Good   788  \n",
              "9547   Very Good  1034  \n",
              "9548        Good   661  \n",
              "9549   Very Good   901  \n",
              "9550   Very Good   591  \n",
              "\n",
              "[9551 rows x 21 columns]"
            ]
          },
          "metadata": {},
          "output_type": "display_data"
        }
      ],
      "source": [
        "import pandas as pd\n",
        "\n",
        "# Try different encodings\n",
        "encodings = ['utf-8-sig', 'latin1', 'ISO-8859-1', 'cp1252']\n",
        "\n",
        "for encoding in encodings:\n",
        "    try:\n",
        "        df = pd.read_csv('/content/sample_data/zomato.csv', encoding=encoding)\n",
        "        print(\"File read successfully with encoding:\", encoding)\n",
        "        display(df)\n",
        "        break\n",
        "    except UnicodeDecodeError:\n",
        "        print(\"Failed to read file with encoding:\", encoding)\n",
        "\n",
        "\n"
      ]
    },
    {
      "cell_type": "code",
      "execution_count": null,
      "metadata": {
        "colab": {
          "base_uri": "https://localhost:8080/"
        },
        "id": "Osn-y601kW9D",
        "outputId": "b55e3090-1a70-4637-a78c-8b869aa9ce5d"
      },
      "outputs": [
        {
          "name": "stdout",
          "output_type": "stream",
          "text": [
            "['Restaurant ID', 'Restaurant Name', 'Country Code', 'City', 'Address', 'Locality', 'Locality Verbose', 'Longitude', 'Latitude', 'Cuisines', 'Average Cost for two', 'Currency', 'Has Table booking', 'Has Online delivery', 'Is delivering now', 'Switch to order menu', 'Price range', 'Aggregate rating', 'Rating color', 'Rating text', 'Votes']\n"
          ]
        }
      ],
      "source": [
        "#print column names\n",
        "\n",
        "print(df.columns.tolist())\n"
      ]
    },
    {
      "cell_type": "code",
      "execution_count": null,
      "metadata": {
        "colab": {
          "base_uri": "https://localhost:8080/"
        },
        "id": "3rW-gDqom8DJ",
        "outputId": "e319cd12-93bf-4547-ea94-21fbbb32139d"
      },
      "outputs": [
        {
          "name": "stdout",
          "output_type": "stream",
          "text": [
            "Restaurant ID           0\n",
            "Restaurant Name         0\n",
            "Country Code            0\n",
            "City                    0\n",
            "Address                 0\n",
            "Locality                0\n",
            "Locality Verbose        0\n",
            "Longitude               0\n",
            "Latitude                0\n",
            "Cuisines                9\n",
            "Average Cost for two    0\n",
            "Currency                0\n",
            "Has Table booking       0\n",
            "Has Online delivery     0\n",
            "Is delivering now       0\n",
            "Switch to order menu    0\n",
            "Price range             0\n",
            "Aggregate rating        0\n",
            "Rating color            0\n",
            "Rating text             0\n",
            "Votes                   0\n",
            "dtype: int64\n"
          ]
        }
      ],
      "source": [
        "#  find null value\n",
        "\n",
        "\n",
        "null=df.isnull().sum()\n",
        "print(null)"
      ]
    },
    {
      "cell_type": "code",
      "execution_count": null,
      "metadata": {
        "colab": {
          "base_uri": "https://localhost:8080/"
        },
        "id": "hTlXSKL4ol-5",
        "outputId": "a02554af-296e-43a6-8f12-46c8300d1e5d"
      },
      "outputs": [
        {
          "name": "stdout",
          "output_type": "stream",
          "text": [
            "9\n"
          ]
        }
      ],
      "source": [
        "# print null values in Cuisines\n",
        "\n",
        "print(df['Cuisines'].isnull().sum())\n"
      ]
    },
    {
      "cell_type": "code",
      "execution_count": null,
      "metadata": {
        "id": "iP6PuipbpwHD"
      },
      "outputs": [],
      "source": [
        "# whiceever column are null dlete that entire raw\n",
        "\n",
        "df = df.dropna()\n"
      ]
    },
    {
      "cell_type": "code",
      "execution_count": null,
      "metadata": {
        "colab": {
          "base_uri": "https://localhost:8080/"
        },
        "id": "U8egM6hkqZVv",
        "outputId": "043f990c-d696-462c-b962-26dba457c879"
      },
      "outputs": [
        {
          "name": "stdout",
          "output_type": "stream",
          "text": [
            "Restaurant ID           0\n",
            "Restaurant Name         0\n",
            "Country Code            0\n",
            "City                    0\n",
            "Address                 0\n",
            "Locality                0\n",
            "Locality Verbose        0\n",
            "Longitude               0\n",
            "Latitude                0\n",
            "Cuisines                0\n",
            "Average Cost for two    0\n",
            "Currency                0\n",
            "Has Table booking       0\n",
            "Has Online delivery     0\n",
            "Is delivering now       0\n",
            "Switch to order menu    0\n",
            "Price range             0\n",
            "Aggregate rating        0\n",
            "Rating color            0\n",
            "Rating text             0\n",
            "Votes                   0\n",
            "dtype: int64\n"
          ]
        }
      ],
      "source": [
        "null=df.isnull().sum()\n",
        "print(null)"
      ]
    },
    {
      "cell_type": "code",
      "execution_count": null,
      "metadata": {
        "colab": {
          "base_uri": "https://localhost:8080/"
        },
        "id": "x7CTcbJ1q3Tm",
        "outputId": "fa4ea2a1-174e-4b11-a3dc-e30bad7c37c9"
      },
      "outputs": [
        {
          "name": "stdout",
          "output_type": "stream",
          "text": [
            "   Restaurant ID                           Restaurant Name  Country Code  \\\n",
            "0        6317637                          Le Petit Souffle           162   \n",
            "1        6304287                          Izakaya Kikufuji           162   \n",
            "2        6300002                    Heat - Edsa Shangri-La           162   \n",
            "3        6318506                                      Ooma           162   \n",
            "4        6314302                               Sambo Kojin           162   \n",
            "5       18189371                              Din Tai Fung           162   \n",
            "6        6300781                                Buffet 101           162   \n",
            "7        6301290                                   Vikings           162   \n",
            "8        6300010  Spiral - Sofitel Philippine Plaza Manila           162   \n",
            "9        6314987                                  Locavore           162   \n",
            "\n",
            "               City                                            Address  \\\n",
            "0       Makati City  Third Floor, Century City Mall, Kalayaan Avenu...   \n",
            "1       Makati City  Little Tokyo, 2277 Chino Roces Avenue, Legaspi...   \n",
            "2  Mandaluyong City  Edsa Shangri-La, 1 Garden Way, Ortigas, Mandal...   \n",
            "3  Mandaluyong City  Third Floor, Mega Fashion Hall, SM Megamall, O...   \n",
            "4  Mandaluyong City  Third Floor, Mega Atrium, SM Megamall, Ortigas...   \n",
            "5  Mandaluyong City  Ground Floor, Mega Fashion Hall, SM Megamall, ...   \n",
            "6        Pasay City  Building K, SM By The Bay, Sunset Boulevard, M...   \n",
            "7        Pasay City  Building B, By The Bay, Seaside Boulevard, Mal...   \n",
            "8        Pasay City  Plaza Level, Sofitel Philippine Plaza Manila, ...   \n",
            "9        Pasig City  Brixton Technology Center, 10 Brixton Street, ...   \n",
            "\n",
            "                                          Locality  \\\n",
            "0        Century City Mall, Poblacion, Makati City   \n",
            "1       Little Tokyo, Legaspi Village, Makati City   \n",
            "2       Edsa Shangri-La, Ortigas, Mandaluyong City   \n",
            "3           SM Megamall, Ortigas, Mandaluyong City   \n",
            "4           SM Megamall, Ortigas, Mandaluyong City   \n",
            "5           SM Megamall, Ortigas, Mandaluyong City   \n",
            "6  SM by the Bay, Mall of Asia Complex, Pasay City   \n",
            "7  SM by the Bay, Mall of Asia Complex, Pasay City   \n",
            "8      Sofitel Philippine Plaza Manila, Pasay City   \n",
            "9                                        Kapitolyo   \n",
            "\n",
            "                                    Locality Verbose   Longitude   Latitude  \\\n",
            "0  Century City Mall, Poblacion, Makati City, Mak...  121.027535  14.565443   \n",
            "1  Little Tokyo, Legaspi Village, Makati City, Ma...  121.014101  14.553708   \n",
            "2  Edsa Shangri-La, Ortigas, Mandaluyong City, Ma...  121.056831  14.581404   \n",
            "3  SM Megamall, Ortigas, Mandaluyong City, Mandal...  121.056475  14.585318   \n",
            "4  SM Megamall, Ortigas, Mandaluyong City, Mandal...  121.057508  14.584450   \n",
            "5  SM Megamall, Ortigas, Mandaluyong City, Mandal...  121.056314  14.583764   \n",
            "6  SM by the Bay, Mall of Asia Complex, Pasay Cit...  120.979667  14.531333   \n",
            "7  SM by the Bay, Mall of Asia Complex, Pasay Cit...  120.979333  14.540000   \n",
            "8  Sofitel Philippine Plaza Manila, Pasay City, P...  120.980090  14.552990   \n",
            "9                              Kapitolyo, Pasig City  121.056532  14.572041   \n",
            "\n",
            "                             Cuisines  ...          Currency  \\\n",
            "0          French, Japanese, Desserts  ...  Botswana Pula(P)   \n",
            "1                            Japanese  ...  Botswana Pula(P)   \n",
            "2    Seafood, Asian, Filipino, Indian  ...  Botswana Pula(P)   \n",
            "3                     Japanese, Sushi  ...  Botswana Pula(P)   \n",
            "4                    Japanese, Korean  ...  Botswana Pula(P)   \n",
            "5                             Chinese  ...  Botswana Pula(P)   \n",
            "6                     Asian, European  ...  Botswana Pula(P)   \n",
            "7  Seafood, Filipino, Asian, European  ...  Botswana Pula(P)   \n",
            "8             European, Asian, Indian  ...  Botswana Pula(P)   \n",
            "9                            Filipino  ...  Botswana Pula(P)   \n",
            "\n",
            "  Has Table booking Has Online delivery Is delivering now  \\\n",
            "0               Yes                  No                No   \n",
            "1               Yes                  No                No   \n",
            "2               Yes                  No                No   \n",
            "3                No                  No                No   \n",
            "4               Yes                  No                No   \n",
            "5                No                  No                No   \n",
            "6               Yes                  No                No   \n",
            "7               Yes                  No                No   \n",
            "8               Yes                  No                No   \n",
            "9               Yes                  No                No   \n",
            "\n",
            "  Switch to order menu Price range  Aggregate rating  Rating color  \\\n",
            "0                   No           3               4.8    Dark Green   \n",
            "1                   No           3               4.5    Dark Green   \n",
            "2                   No           4               4.4         Green   \n",
            "3                   No           4               4.9    Dark Green   \n",
            "4                   No           4               4.8    Dark Green   \n",
            "5                   No           3               4.4         Green   \n",
            "6                   No           4               4.0         Green   \n",
            "7                   No           4               4.2         Green   \n",
            "8                   No           4               4.9    Dark Green   \n",
            "9                   No           3               4.8    Dark Green   \n",
            "\n",
            "  Rating text Votes  \n",
            "0   Excellent   314  \n",
            "1   Excellent   591  \n",
            "2   Very Good   270  \n",
            "3   Excellent   365  \n",
            "4   Excellent   229  \n",
            "5   Very Good   336  \n",
            "6   Very Good   520  \n",
            "7   Very Good   677  \n",
            "8   Excellent   621  \n",
            "9   Excellent   532  \n",
            "\n",
            "[10 rows x 21 columns]\n"
          ]
        }
      ],
      "source": [
        "# print first 10 values\n",
        "\n",
        "print(df.head(10))\n"
      ]
    },
    {
      "cell_type": "code",
      "execution_count": null,
      "metadata": {
        "colab": {
          "base_uri": "https://localhost:8080/"
        },
        "id": "bmePa2O0rAAp",
        "outputId": "3fbc39e6-953f-45ed-a00f-5706d7fc7b43"
      },
      "outputs": [
        {
          "name": "stdout",
          "output_type": "stream",
          "text": [
            "CSV file created successfully.\n"
          ]
        }
      ],
      "source": [
        "import pandas as pd\n",
        "\n",
        "# Data provided\n",
        "data = {\n",
        "    'Country Code': [1, 14, 30, 37, 94, 148, 162, 166, 184, 189, 191, 208, 214, 215, 216],\n",
        "    'Country': ['India', 'Australia', 'Brazil', 'Canada', 'Indonesia', 'New Zealand',\n",
        "                'Phillipines', 'Qatar', 'Singapore', 'South Africa', 'Sri Lanka',\n",
        "                'Turkey', 'UAE', 'United Kingdom', 'United States']\n",
        "}\n",
        "\n",
        "# Create DataFrame\n",
        "df = pd.DataFrame(data)\n",
        "\n",
        "# Save DataFrame to a CSV file\n",
        "df.to_csv('countries.csv', index=False)\n",
        "\n",
        "print(\"CSV file created successfully.\")\n"
      ]
    },
    {
      "cell_type": "code",
      "execution_count": null,
      "metadata": {
        "colab": {
          "base_uri": "https://localhost:8080/"
        },
        "id": "kSYrgqdFtCmK",
        "outputId": "9dd4f04d-6bc6-48d9-9410-f2017406b7b1"
      },
      "outputs": [
        {
          "name": "stdout",
          "output_type": "stream",
          "text": [
            "   Country Code       Country\n",
            "0             1         India\n",
            "1            14     Australia\n",
            "2            30        Brazil\n",
            "3            37        Canada\n",
            "4            94     Indonesia\n",
            "5           148   New Zealand\n",
            "6           162   Phillipines\n",
            "7           166         Qatar\n",
            "8           184     Singapore\n",
            "9           189  South Africa\n"
          ]
        }
      ],
      "source": [
        "print(df.head(10))"
      ]
    },
    {
      "cell_type": "code",
      "execution_count": null,
      "metadata": {
        "colab": {
          "base_uri": "https://localhost:8080/"
        },
        "id": "quKdHOVKtQQD",
        "outputId": "bc21024f-af4c-4163-c5b4-82bb63467c93"
      },
      "outputs": [
        {
          "name": "stdout",
          "output_type": "stream",
          "text": [
            "File read successfully with encoding: latin1\n",
            "Country Code\n",
            "1      8652\n",
            "216     434\n",
            "215      80\n",
            "30       60\n",
            "214      60\n",
            "189      60\n",
            "148      40\n",
            "208      34\n",
            "14       24\n",
            "162      22\n",
            "94       21\n",
            "184      20\n",
            "166      20\n",
            "191      20\n",
            "37        4\n",
            "Name: count, dtype: int64\n",
            "Country Code\n",
            "1      8652\n",
            "216     434\n",
            "215      80\n",
            "30       60\n",
            "214      60\n",
            "189      60\n",
            "148      40\n",
            "208      34\n",
            "14       24\n",
            "162      22\n",
            "94       21\n",
            "184      20\n",
            "166      20\n",
            "191      20\n",
            "37        4\n",
            "Name: count, dtype: int64\n"
          ]
        }
      ],
      "source": [
        "import pandas as pd\n",
        "\n",
        "# Load the CSV file into a DataFrame\n",
        "# Try different encodings\n",
        "encodings = ['utf-8-sig', 'latin1', 'ISO-8859-1', 'cp1252']\n",
        "\n",
        "for encoding in encodings:\n",
        "    try:\n",
        "        df = pd.read_csv('/content/sample_data/zomato.csv', encoding=encoding)\n",
        "        print(\"File read successfully with encoding:\", encoding)\n",
        "        country_code_counts = df['Country Code'].value_counts()\n",
        "        print(country_code_counts)\n",
        "        break  # Break out of the loop if successful\n",
        "    except UnicodeDecodeError:\n",
        "        pass\n",
        "\n",
        "# Get the counts of each unique country code\n",
        "country_code_counts = df['Country Code'].value_counts()\n",
        "\n",
        "print(country_code_counts)\n"
      ]
    },
    {
      "cell_type": "code",
      "execution_count": null,
      "metadata": {
        "colab": {
          "base_uri": "https://localhost:8080/"
        },
        "id": "fEahUQ6fu3HL",
        "outputId": "14c1f845-72d7-4991-a5fc-093763405ab6"
      },
      "outputs": [
        {
          "name": "stdout",
          "output_type": "stream",
          "text": [
            "Maximum number of restaurants with the same rating: 2148\n"
          ]
        }
      ],
      "source": [
        "# : count the maximum number if  the rating restuant\n",
        "\n",
        "max_rating_count = df['Aggregate rating'].value_counts().max()\n",
        "print(f\"Maximum number of restaurants with the same rating: {max_rating_count}\")\n"
      ]
    },
    {
      "cell_type": "code",
      "execution_count": null,
      "metadata": {
        "colab": {
          "base_uri": "https://localhost:8080/"
        },
        "id": "emQ9aspIw2yC",
        "outputId": "39f30280-c92a-4844-81c4-d73383e06de7"
      },
      "outputs": [
        {
          "name": "stdout",
          "output_type": "stream",
          "text": [
            "   Restaurant ID                           Restaurant Name  Country Code  \\\n",
            "0        6317637                          Le Petit Souffle           162   \n",
            "1        6304287                          Izakaya Kikufuji           162   \n",
            "2        6300002                    Heat - Edsa Shangri-La           162   \n",
            "3        6318506                                      Ooma           162   \n",
            "4        6314302                               Sambo Kojin           162   \n",
            "5       18189371                              Din Tai Fung           162   \n",
            "6        6300781                                Buffet 101           162   \n",
            "7        6301290                                   Vikings           162   \n",
            "8        6300010  Spiral - Sofitel Philippine Plaza Manila           162   \n",
            "9        6314987                                  Locavore           162   \n",
            "\n",
            "               City                                            Address  \\\n",
            "0       Makati City  Third Floor, Century City Mall, Kalayaan Avenu...   \n",
            "1       Makati City  Little Tokyo, 2277 Chino Roces Avenue, Legaspi...   \n",
            "2  Mandaluyong City  Edsa Shangri-La, 1 Garden Way, Ortigas, Mandal...   \n",
            "3  Mandaluyong City  Third Floor, Mega Fashion Hall, SM Megamall, O...   \n",
            "4  Mandaluyong City  Third Floor, Mega Atrium, SM Megamall, Ortigas...   \n",
            "5  Mandaluyong City  Ground Floor, Mega Fashion Hall, SM Megamall, ...   \n",
            "6        Pasay City  Building K, SM By The Bay, Sunset Boulevard, M...   \n",
            "7        Pasay City  Building B, By The Bay, Seaside Boulevard, Mal...   \n",
            "8        Pasay City  Plaza Level, Sofitel Philippine Plaza Manila, ...   \n",
            "9        Pasig City  Brixton Technology Center, 10 Brixton Street, ...   \n",
            "\n",
            "                                          Locality  \\\n",
            "0        Century City Mall, Poblacion, Makati City   \n",
            "1       Little Tokyo, Legaspi Village, Makati City   \n",
            "2       Edsa Shangri-La, Ortigas, Mandaluyong City   \n",
            "3           SM Megamall, Ortigas, Mandaluyong City   \n",
            "4           SM Megamall, Ortigas, Mandaluyong City   \n",
            "5           SM Megamall, Ortigas, Mandaluyong City   \n",
            "6  SM by the Bay, Mall of Asia Complex, Pasay City   \n",
            "7  SM by the Bay, Mall of Asia Complex, Pasay City   \n",
            "8      Sofitel Philippine Plaza Manila, Pasay City   \n",
            "9                                        Kapitolyo   \n",
            "\n",
            "                                    Locality Verbose   Longitude   Latitude  \\\n",
            "0  Century City Mall, Poblacion, Makati City, Mak...  121.027535  14.565443   \n",
            "1  Little Tokyo, Legaspi Village, Makati City, Ma...  121.014101  14.553708   \n",
            "2  Edsa Shangri-La, Ortigas, Mandaluyong City, Ma...  121.056831  14.581404   \n",
            "3  SM Megamall, Ortigas, Mandaluyong City, Mandal...  121.056475  14.585318   \n",
            "4  SM Megamall, Ortigas, Mandaluyong City, Mandal...  121.057508  14.584450   \n",
            "5  SM Megamall, Ortigas, Mandaluyong City, Mandal...  121.056314  14.583764   \n",
            "6  SM by the Bay, Mall of Asia Complex, Pasay Cit...  120.979667  14.531333   \n",
            "7  SM by the Bay, Mall of Asia Complex, Pasay Cit...  120.979333  14.540000   \n",
            "8  Sofitel Philippine Plaza Manila, Pasay City, P...  120.980090  14.552990   \n",
            "9                              Kapitolyo, Pasig City  121.056532  14.572041   \n",
            "\n",
            "                             Cuisines  ...          Currency  \\\n",
            "0          French, Japanese, Desserts  ...  Botswana Pula(P)   \n",
            "1                            Japanese  ...  Botswana Pula(P)   \n",
            "2    Seafood, Asian, Filipino, Indian  ...  Botswana Pula(P)   \n",
            "3                     Japanese, Sushi  ...  Botswana Pula(P)   \n",
            "4                    Japanese, Korean  ...  Botswana Pula(P)   \n",
            "5                             Chinese  ...  Botswana Pula(P)   \n",
            "6                     Asian, European  ...  Botswana Pula(P)   \n",
            "7  Seafood, Filipino, Asian, European  ...  Botswana Pula(P)   \n",
            "8             European, Asian, Indian  ...  Botswana Pula(P)   \n",
            "9                            Filipino  ...  Botswana Pula(P)   \n",
            "\n",
            "  Has Table booking Has Online delivery Is delivering now  \\\n",
            "0               Yes                  No                No   \n",
            "1               Yes                  No                No   \n",
            "2               Yes                  No                No   \n",
            "3                No                  No                No   \n",
            "4               Yes                  No                No   \n",
            "5                No                  No                No   \n",
            "6               Yes                  No                No   \n",
            "7               Yes                  No                No   \n",
            "8               Yes                  No                No   \n",
            "9               Yes                  No                No   \n",
            "\n",
            "  Switch to order menu Price range  Aggregate rating  Rating color  \\\n",
            "0                   No           3               4.0    Dark Green   \n",
            "1                   No           3               4.0    Dark Green   \n",
            "2                   No           4               4.0         Green   \n",
            "3                   No           4               4.0    Dark Green   \n",
            "4                   No           4               4.0    Dark Green   \n",
            "5                   No           3               4.0         Green   \n",
            "6                   No           4               4.0         Green   \n",
            "7                   No           4               4.0         Green   \n",
            "8                   No           4               4.0    Dark Green   \n",
            "9                   No           3               4.0    Dark Green   \n",
            "\n",
            "  Rating text Votes  \n",
            "0   Excellent   314  \n",
            "1   Excellent   591  \n",
            "2   Very Good   270  \n",
            "3   Excellent   365  \n",
            "4   Excellent   229  \n",
            "5   Very Good   336  \n",
            "6   Very Good   520  \n",
            "7   Very Good   677  \n",
            "8   Excellent   621  \n",
            "9   Excellent   532  \n",
            "\n",
            "[10 rows x 21 columns]\n"
          ]
        }
      ],
      "source": [
        "print(df.head(10))"
      ]
    },
    {
      "cell_type": "code",
      "execution_count": null,
      "metadata": {
        "colab": {
          "base_uri": "https://localhost:8080/"
        },
        "id": "TjxMoiA2xT1w",
        "outputId": "3586b982-3d19-447f-deba-5125d146bdd4"
      },
      "outputs": [
        {
          "name": "stdout",
          "output_type": "stream",
          "text": [
            "Failed to read file with encoding: utf-8-sig\n",
            "File read successfully with encoding: latin1\n",
            "0       4.8\n",
            "1       4.5\n",
            "2       4.4\n",
            "3       4.9\n",
            "4       4.8\n",
            "       ... \n",
            "9546    4.1\n",
            "9547    4.2\n",
            "9548    3.7\n",
            "9549    4.0\n",
            "9550    4.0\n",
            "Name: Aggregate rating, Length: 9551, dtype: float64\n"
          ]
        }
      ],
      "source": [
        "import pandas as pd\n",
        "\n",
        "# Try different encodings\n",
        "encodings = ['utf-8-sig', 'latin1', 'ISO-8859-1', 'cp1252']\n",
        "\n",
        "for encoding in encodings:\n",
        "    try:\n",
        "        df = pd.read_csv('/content/sample_data/zomato.csv', encoding=encoding)\n",
        "        print(\"File read successfully with encoding:\", encoding)\n",
        "        break  # Break out of the loop if successful\n",
        "    except UnicodeDecodeError:\n",
        "        print(\"Failed to read file with encoding:\", encoding)\n",
        "\n",
        "# Print the DataFrame before converting\n",
        "print(df['Aggregate rating'])\n"
      ]
    },
    {
      "cell_type": "code",
      "execution_count": null,
      "metadata": {
        "colab": {
          "base_uri": "https://localhost:8080/"
        },
        "id": "7u3egWt6xnAV",
        "outputId": "a94990f1-651f-4934-e8ff-f4ffb8b82821"
      },
      "outputs": [
        {
          "name": "stdout",
          "output_type": "stream",
          "text": [
            "0       4.8\n",
            "1       4.5\n",
            "2       4.4\n",
            "3       4.9\n",
            "4       4.8\n",
            "       ... \n",
            "9546    4.1\n",
            "9547    4.2\n",
            "9548    3.7\n",
            "9549    4.0\n",
            "9550    4.0\n",
            "Name: Aggregate rating, Length: 9551, dtype: float64\n"
          ]
        }
      ],
      "source": [
        "df['Aggregate rating']=df['Aggregate rating'].astype(float)\n",
        "print(df['Aggregate rating'])"
      ]
    },
    {
      "cell_type": "code",
      "execution_count": null,
      "metadata": {
        "colab": {
          "base_uri": "https://localhost:8080/"
        },
        "id": "JziGHw_Px-Tz",
        "outputId": "e6c4a264-5ec0-4a9c-d436-037010930ef8"
      },
      "outputs": [
        {
          "name": "stdout",
          "output_type": "stream",
          "text": [
            "Average  rating: 2.66637001361114\n"
          ]
        }
      ],
      "source": [
        "# prompt: aveage of aggrate rating column\n",
        "\n",
        "average_rating = df['Aggregate rating'].mean()\n",
        "print(f\"Average  rating: {average_rating}\")\n"
      ]
    },
    {
      "cell_type": "code",
      "execution_count": null,
      "metadata": {
        "colab": {
          "base_uri": "https://localhost:8080/"
        },
        "id": "hD3ZXs7hy4oH",
        "outputId": "0d739f67-334d-42cd-bbfa-21e399681f7f"
      },
      "outputs": [
        {
          "name": "stdout",
          "output_type": "stream",
          "text": [
            "Number of restaurants with rating above average: 6666\n"
          ]
        }
      ],
      "source": [
        "#above average of 2.7  count the restruntant\n",
        "\n",
        "# Count the number of restaurants with rating above average\n",
        "restaurants_above_average = df[df['Aggregate rating'] > 2.7].shape[0]\n",
        "\n",
        "print(f\"Number of restaurants with rating above average: {restaurants_above_average}\")\n"
      ]
    },
    {
      "cell_type": "code",
      "execution_count": null,
      "metadata": {
        "colab": {
          "base_uri": "https://localhost:8080/"
        },
        "id": "I3QHgsk62n3h",
        "outputId": "8511f552-5ae0-4ff1-c25e-923f41dc6f06"
      },
      "outputs": [
        {
          "name": "stdout",
          "output_type": "stream",
          "text": [
            "Failed to read file with encoding: utf-8-sig\n",
            "File read successfully with encoding: latin1\n"
          ]
        }
      ],
      "source": [
        "import pandas as pd\n",
        "\n",
        "# Try different encodings\n",
        "encodings = ['utf-8-sig', 'latin1', 'ISO-8859-1', 'cp1252']\n",
        "\n",
        "for encoding in encodings:\n",
        "    try:\n",
        "        df = pd.read_csv('/content/sample_data/zomato.csv', encoding=encoding)\n",
        "        print(\"File read successfully with encoding:\", encoding)\n",
        "        break  # Break out of the loop if successful\n",
        "    except UnicodeDecodeError:\n",
        "        print(\"Failed to read file with encoding:\", encoding)\n",
        "\n",
        "# Create a dictionary mapping country codes to country names\n",
        "country_details = {\n",
        "    1: 'India',\n",
        "    14: 'Australia',\n",
        "    30: 'Brazil',\n",
        "    37: 'Canada',\n",
        "    94: 'Indonesia',\n",
        "    148: 'New Zealand',\n",
        "    162: 'Philippines',\n",
        "    166: 'Qatar',\n",
        "    184: 'Singapore',\n",
        "    189: 'South Africa',\n",
        "    191: 'Sri Lanka',\n",
        "    208: 'Turkey',\n",
        "    214: 'UAE',\n",
        "    215: 'United Kingdom',\n",
        "    216: 'United States'\n",
        "}\n",
        "\n",
        "# Add a new column 'Country Name' based on the 'Country Code' column\n",
        "df['Country Name'] = df['Country Code'].map(country_details)\n",
        "\n",
        "# Save the updated dataset with country names to a new CSV file\n",
        "df.to_csv('updated_dataset.csv', index=False)\n"
      ]
    },
    {
      "cell_type": "code",
      "execution_count": null,
      "metadata": {
        "colab": {
          "base_uri": "https://localhost:8080/"
        },
        "id": "aCjDbEEHFRc5",
        "outputId": "54207ba8-844a-4e2e-f0f7-1bffb5416a65"
      },
      "outputs": [
        {
          "name": "stdout",
          "output_type": "stream",
          "text": [
            "  Restaurant ID                           Restaurant Name Country Code  \\\n",
            "0       6317637                          Le Petit Souffle          162   \n",
            "1       6304287                          Izakaya Kikufuji          162   \n",
            "2       6300002                    Heat - Edsa Shangri-La          162   \n",
            "3       6318506                                      Ooma          162   \n",
            "4       6314302                               Sambo Kojin          162   \n",
            "5      18189371                              Din Tai Fung          162   \n",
            "6       6300781                                Buffet 101          162   \n",
            "7       6301290                                   Vikings          162   \n",
            "8       6300010  Spiral - Sofitel Philippine Plaza Manila          162   \n",
            "9       6314987                                  Locavore          162   \n",
            "\n",
            "               City                                            Address  \\\n",
            "0       Makati City  Third Floor, Century City Mall, Kalayaan Avenu...   \n",
            "1       Makati City  Little Tokyo, 2277 Chino Roces Avenue, Legaspi...   \n",
            "2  Mandaluyong City  Edsa Shangri-La, 1 Garden Way, Ortigas, Mandal...   \n",
            "3  Mandaluyong City  Third Floor, Mega Fashion Hall, SM Megamall, O...   \n",
            "4  Mandaluyong City  Third Floor, Mega Atrium, SM Megamall, Ortigas...   \n",
            "5  Mandaluyong City  Ground Floor, Mega Fashion Hall, SM Megamall, ...   \n",
            "6        Pasay City  Building K, SM By The Bay, Sunset Boulevard, M...   \n",
            "7        Pasay City  Building B, By The Bay, Seaside Boulevard, Mal...   \n",
            "8        Pasay City  Plaza Level, Sofitel Philippine Plaza Manila, ...   \n",
            "9        Pasig City  Brixton Technology Center, 10 Brixton Street, ...   \n",
            "\n",
            "                                          Locality  \\\n",
            "0        Century City Mall, Poblacion, Makati City   \n",
            "1       Little Tokyo, Legaspi Village, Makati City   \n",
            "2       Edsa Shangri-La, Ortigas, Mandaluyong City   \n",
            "3           SM Megamall, Ortigas, Mandaluyong City   \n",
            "4           SM Megamall, Ortigas, Mandaluyong City   \n",
            "5           SM Megamall, Ortigas, Mandaluyong City   \n",
            "6  SM by the Bay, Mall of Asia Complex, Pasay City   \n",
            "7  SM by the Bay, Mall of Asia Complex, Pasay City   \n",
            "8      Sofitel Philippine Plaza Manila, Pasay City   \n",
            "9                                        Kapitolyo   \n",
            "\n",
            "                                    Locality Verbose    Longitude  \\\n",
            "0  Century City Mall, Poblacion, Makati City, Mak...   121.027535   \n",
            "1  Little Tokyo, Legaspi Village, Makati City, Ma...   121.014101   \n",
            "2  Edsa Shangri-La, Ortigas, Mandaluyong City, Ma...   121.056831   \n",
            "3  SM Megamall, Ortigas, Mandaluyong City, Mandal...   121.056475   \n",
            "4  SM Megamall, Ortigas, Mandaluyong City, Mandal...   121.057508   \n",
            "5  SM Megamall, Ortigas, Mandaluyong City, Mandal...   121.056314   \n",
            "6  SM by the Bay, Mall of Asia Complex, Pasay Cit...  120.9796667   \n",
            "7  SM by the Bay, Mall of Asia Complex, Pasay Cit...  120.9793333   \n",
            "8  Sofitel Philippine Plaza Manila, Pasay City, P...    120.98009   \n",
            "9                              Kapitolyo, Pasig City   121.056532   \n",
            "\n",
            "      Latitude                            Cuisines  ... Has Table booking  \\\n",
            "0    14.565443          French, Japanese, Desserts  ...               Yes   \n",
            "1    14.553708                            Japanese  ...               Yes   \n",
            "2    14.581404    Seafood, Asian, Filipino, Indian  ...               Yes   \n",
            "3    14.585318                     Japanese, Sushi  ...                No   \n",
            "4     14.58445                    Japanese, Korean  ...               Yes   \n",
            "5    14.583764                             Chinese  ...                No   \n",
            "6  14.53133333                     Asian, European  ...               Yes   \n",
            "7        14.54  Seafood, Filipino, Asian, European  ...               Yes   \n",
            "8     14.55299             European, Asian, Indian  ...               Yes   \n",
            "9    14.572041                            Filipino  ...               Yes   \n",
            "\n",
            "  Has Online delivery Is delivering now Switch to order menu Price range  \\\n",
            "0                  No                No                   No         3.0   \n",
            "1                  No                No                   No         3.0   \n",
            "2                  No                No                   No         4.0   \n",
            "3                  No                No                   No         4.0   \n",
            "4                  No                No                   No         4.0   \n",
            "5                  No                No                   No         3.0   \n",
            "6                  No                No                   No         4.0   \n",
            "7                  No                No                   No         4.0   \n",
            "8                  No                No                   No         4.0   \n",
            "9                  No                No                   No         3.0   \n",
            "\n",
            "  Aggregate rating  Rating color Rating text  Votes Country Name  \n",
            "0              4.8    Dark Green   Excellent  314.0  Philippines  \n",
            "1              4.5    Dark Green   Excellent  591.0  Philippines  \n",
            "2              4.4         Green   Very Good  270.0  Philippines  \n",
            "3              4.9    Dark Green   Excellent  365.0  Philippines  \n",
            "4              4.8    Dark Green   Excellent  229.0  Philippines  \n",
            "5              4.4         Green   Very Good  336.0  Philippines  \n",
            "6              4.0         Green   Very Good  520.0  Philippines  \n",
            "7              4.2         Green   Very Good  677.0  Philippines  \n",
            "8              4.9    Dark Green   Excellent  621.0  Philippines  \n",
            "9              4.8    Dark Green   Excellent  532.0  Philippines  \n",
            "\n",
            "[10 rows x 22 columns]\n"
          ]
        }
      ],
      "source": [
        "df = pd.read_csv('/content/sample_data/new_zomato.csv')\n",
        "\n",
        "# Display the first 10 rows of the DataFrame\n",
        "print(df.head(10))\n"
      ]
    },
    {
      "cell_type": "code",
      "execution_count": null,
      "metadata": {
        "colab": {
          "base_uri": "https://localhost:8080/"
        },
        "id": "0cQWKo3pGryN",
        "outputId": "b55acaa9-6046-496b-d35b-0f67d6fd3255"
      },
      "outputs": [
        {
          "name": "stdout",
          "output_type": "stream",
          "text": [
            "                Aggregate rating\n",
            "Country Name                    \n",
            "Australia                   87.8\n",
            "Brazil                     225.8\n",
            "Canada                      14.3\n",
            "India                    21831.8\n",
            "Indonesia                   90.2\n",
            "New Zealand                170.5\n",
            "Philippines                 98.3\n",
            "Qatar                       81.2\n",
            "Singapore                   68.3\n",
            "South Africa               252.6\n",
            "Sri Lanka                   77.4\n",
            "Turkey                     146.2\n",
            "UAE                        254.0\n",
            "United Kingdom             327.0\n",
            "United States             1737.9\n"
          ]
        }
      ],
      "source": [
        "import pandas as pd\n",
        "\n",
        "# Read the CSV file into a DataFrame\n",
        "df = pd.read_csv('/content/sample_data/new_zomato.csv')\n",
        "\n",
        "\n",
        "df['Aggregate rating'] = pd.to_numeric(df['Aggregate rating'], errors='coerce')\n",
        "\n",
        "\n",
        "df['Aggregate rating'].fillna(0, inplace=True)\n",
        "\n",
        "\n",
        "df['Aggregate rating'] = df['Aggregate rating'].astype(float)\n",
        "\n",
        "country_ratings = df.pivot_table(values='Aggregate rating', index='Country Name', aggfunc='sum')\n",
        "\n",
        "# Print the pivot table\n",
        "print(country_ratings)"
      ]
    },
    {
      "cell_type": "markdown",
      "metadata": {
        "id": "-Ru5bFUgV8Ql"
      },
      "source": []
    },
    {
      "cell_type": "code",
      "execution_count": null,
      "metadata": {
        "colab": {
          "base_uri": "https://localhost:8080/"
        },
        "id": "5V3dh-6FV9Zv",
        "outputId": "b087e080-2a81-4ad1-9f38-4237ffd5588c"
      },
      "outputs": [
        {
          "name": "stdout",
          "output_type": "stream",
          "text": [
            "Country Name\n",
            "Australia             24.083333\n",
            "Brazil               134.666667\n",
            "Canada                36.250000\n",
            "India                623.370319\n",
            "Indonesia         281190.476190\n",
            "New Zealand           69.750000\n",
            "Philippines         1606.818182\n",
            "Qatar                223.750000\n",
            "Singapore            158.947368\n",
            "South Africa         419.733333\n",
            "Sri Lanka           2375.000000\n",
            "Turkey                84.852941\n",
            "UAE                  166.416667\n",
            "United Kingdom        47.812500\n",
            "United States         26.152074\n",
            "Name: Average Cost for two, dtype: float64\n"
          ]
        }
      ],
      "source": [
        "# find the mean of the avearge cost for two by country wise\n",
        "\n",
        "import pandas as pd\n",
        "\n",
        "# Read the CSV file into a DataFrame\n",
        "df = pd.read_csv('/content/sample_data/new_zomato.csv')\n",
        "\n",
        "# Convert 'Average Cost for two' to numeric\n",
        "df['Average Cost for two'] = pd.to_numeric(df['Average Cost for two'], errors='coerce')\n",
        "\n",
        "# Fill missing values with 0\n",
        "df['Average Cost for two'].fillna(0, inplace=True)\n",
        "\n",
        "# Convert 'Average Cost for two' to float\n",
        "df['Average Cost for two'] = df['Average Cost for two'].astype(float)\n",
        "\n",
        "# Calculate the mean of average cost for two, grouped by country\n",
        "mean_cost_by_country = df.groupby('Country Name')['Average Cost for two'].mean()\n",
        "\n",
        "# Print the mean cost for two, grouped by country\n",
        "print(mean_cost_by_country)\n"
      ]
    },
    {
      "cell_type": "code",
      "execution_count": null,
      "metadata": {
        "id": "dr37GjUBYzjU"
      },
      "outputs": [],
      "source": []
    },
    {
      "cell_type": "code",
      "execution_count": null,
      "metadata": {
        "colab": {
          "base_uri": "https://localhost:8080/"
        },
        "id": "h-lLTcsTYQ19",
        "outputId": "4b1e96db-36be-4b9f-b125-50ccf9c13dd3"
      },
      "outputs": [
        {
          "name": "stdout",
          "output_type": "stream",
          "text": [
            "Country Name\n",
            "India             8652\n",
            "United States      434\n",
            "United Kingdom      80\n",
            "Brazil              60\n",
            "UAE                 60\n",
            "South Africa        60\n",
            "New Zealand         40\n",
            "Turkey              34\n",
            "Australia           24\n",
            "Philippines         22\n",
            "Indonesia           21\n",
            "Qatar               20\n",
            "Sri Lanka           20\n",
            "Singapore           19\n",
            "Canada               4\n",
            "Name: count, dtype: int64\n"
          ]
        }
      ],
      "source": [
        "# count a total no of restruant by outnry wise\n",
        "\n",
        "country_counts = df['Country Name'].value_counts()\n",
        "print(country_counts)\n"
      ]
    },
    {
      "cell_type": "code",
      "execution_count": null,
      "metadata": {
        "colab": {
          "base_uri": "https://localhost:8080/"
        },
        "id": "rDG-j9iNYaqh",
        "outputId": "67f6f83f-ed3b-435f-c55d-25650782c3fb"
      },
      "outputs": [
        {
          "name": "stdout",
          "output_type": "stream",
          "text": [
            "                    Votes\n",
            "Country Name             \n",
            "Australia          2674.0\n",
            "Brazil             1177.0\n",
            "Canada              412.0\n",
            "India           1187163.0\n",
            "Indonesia         16214.0\n",
            "New Zealand        9721.0\n",
            "Philippines        8963.0\n",
            "Qatar              3276.0\n",
            "Singapore           608.0\n",
            "South Africa      18910.0\n",
            "Sri Lanka          2929.0\n",
            "Turkey            14670.0\n",
            "UAE               29611.0\n",
            "United Kingdom    16439.0\n",
            "United States    185848.0\n"
          ]
        }
      ],
      "source": [
        "#count the number of votes by country wise\n",
        "\n",
        "# Create a pivot table with country names as rows and votes as values\n",
        "votes_by_country = df.pivot_table(values='Votes', index='Country Name', aggfunc='sum')\n",
        "\n",
        "# Print the pivot table\n",
        "print(votes_by_country)\n"
      ]
    },
    {
      "cell_type": "code",
      "execution_count": null,
      "metadata": {
        "colab": {
          "background_save": true,
          "base_uri": "https://localhost:8080/"
        },
        "id": "fGcK74thY1Z-",
        "outputId": "9f46e78d-a376-43fb-92d4-2309841e770e"
      },
      "outputs": [
        {
          "name": "stdout",
          "output_type": "stream",
          "text": [
            "                   Votes\n",
            "Country Name            \n",
            "Australia       0.002800\n",
            "Brazil          0.001232\n",
            "Canada          0.000431\n",
            "India           1.243103\n",
            "Indonesia       0.016978\n",
            "New Zealand     0.010179\n",
            "Philippines     0.009385\n",
            "Qatar           0.003430\n",
            "Singapore       0.000637\n",
            "South Africa    0.019801\n",
            "Sri Lanka       0.003067\n",
            "Turkey          0.015361\n",
            "UAE             0.031006\n",
            "United Kingdom  0.017214\n",
            "United States   0.194605\n"
          ]
        }
      ],
      "source": [
        "\n",
        "votes_by_country_percent = (votes_by_country / country_counts.sum()) * 100\n",
        "\n",
        "# Print the percentage of votes for each country\n",
        "print(votes_by_country_percent)\n"
      ]
    },
    {
      "cell_type": "code",
      "source": [
        "# count rating text as by county names\n",
        "\n",
        "import pandas as pd\n",
        "# Read the CSV file into a DataFrame\n",
        "df = pd.read_csv('/content/sample_data/new_zomato.csv')\n",
        "\n",
        "# Create a pivot table with country names as rows and rating text as values\n",
        "rating_text_by_country = df.pivot_table(values='Rating text', index='Country Name', aggfunc='count')\n",
        "\n",
        "# Print the pivot table\n",
        "print(rating_text_by_country)\n"
      ],
      "metadata": {
        "colab": {
          "base_uri": "https://localhost:8080/"
        },
        "id": "XpYxan5iuhLR",
        "outputId": "3542b264-a25f-4b72-ccfb-185e484085d7"
      },
      "execution_count": null,
      "outputs": [
        {
          "output_type": "stream",
          "name": "stdout",
          "text": [
            "                Rating text\n",
            "Country Name               \n",
            "Australia                24\n",
            "Brazil                   60\n",
            "Canada                    4\n",
            "India                  8652\n",
            "Indonesia                21\n",
            "New Zealand              40\n",
            "Philippines              22\n",
            "Qatar                    20\n",
            "Singapore                19\n",
            "South Africa             60\n",
            "Sri Lanka                20\n",
            "Turkey                   34\n",
            "UAE                      60\n",
            "United Kingdom           80\n",
            "United States           434\n"
          ]
        }
      ]
    },
    {
      "cell_type": "code",
      "source": [
        "# prompt: count rating text by country\n",
        "\n",
        "import pandas as pd\n",
        "\n",
        "# Read the CSV file into a DataFrame\n",
        "df = pd.read_csv('/content/sample_data/new_zomato.csv')\n",
        "\n",
        "# Create a pivot table with country names as rows and rating text as values\n",
        "rating_text_by_country = df.pivot_table(values='Rating text', index='Country Name', aggfunc='count')\n",
        "\n",
        "# Print the pivot table\n",
        "print(rating_text_by_country)\n"
      ],
      "metadata": {
        "colab": {
          "base_uri": "https://localhost:8080/"
        },
        "id": "HGnGByQbu5SA",
        "outputId": "7e082a17-4ef8-414c-cfd4-bac16915a3bc"
      },
      "execution_count": null,
      "outputs": [
        {
          "output_type": "stream",
          "name": "stdout",
          "text": [
            "                Rating text\n",
            "Country Name               \n",
            "Australia                24\n",
            "Brazil                   60\n",
            "Canada                    4\n",
            "India                  8652\n",
            "Indonesia                21\n",
            "New Zealand              40\n",
            "Philippines              22\n",
            "Qatar                    20\n",
            "Singapore                19\n",
            "South Africa             60\n",
            "Sri Lanka                20\n",
            "Turkey                   34\n",
            "UAE                      60\n",
            "United Kingdom           80\n",
            "United States           434\n"
          ]
        }
      ]
    },
    {
      "cell_type": "code",
      "source": [
        "# prompt: how many execllnet are in rating text by country wise\n",
        "\n",
        "import pandas as pd\n",
        "# Read the CSV file into a DataFrame\n",
        "df = pd.read_csv('/content/sample_data/new_zomato.csv')\n",
        "\n",
        "# Create a pivot table with country names as rows and rating text as values\n",
        "rating_text_by_country = df.pivot_table(values='Rating text', index='Country Name', aggfunc='count')\n",
        "\n",
        "# Filter the pivot table to only include rows where the rating text is \"Excellent\"\n",
        "excellent_ratings_by_country = rating_text_by_country[rating_text_by_country['Rating text'] == 'Excellent']\n",
        "\n",
        "# Print the number of excellent ratings for each country\n",
        "print(excellent_ratings_by_country)\n"
      ],
      "metadata": {
        "colab": {
          "base_uri": "https://localhost:8080/"
        },
        "id": "OMO8X5ZRvz5h",
        "outputId": "e6c44be6-e120-4bc8-f975-27a95ebfbb86"
      },
      "execution_count": null,
      "outputs": [
        {
          "output_type": "stream",
          "name": "stdout",
          "text": [
            "Empty DataFrame\n",
            "Columns: [Rating text]\n",
            "Index: []\n"
          ]
        }
      ]
    },
    {
      "cell_type": "code",
      "source": [
        "grouped = df.groupby('Rating text')\n",
        "print(grouped)"
      ],
      "metadata": {
        "colab": {
          "base_uri": "https://localhost:8080/"
        },
        "id": "UxxZRkV8wihW",
        "outputId": "a898fbc3-c99c-47ca-d715-f6079f8aadee"
      },
      "execution_count": null,
      "outputs": [
        {
          "output_type": "stream",
          "name": "stdout",
          "text": [
            "<pandas.core.groupby.generic.DataFrameGroupBy object at 0x7fb98906b100>\n"
          ]
        }
      ]
    },
    {
      "cell_type": "code",
      "source": [
        "import pandas as pd\n",
        "\n",
        "# Read the CSV file into a DataFrame\n",
        "df = pd.read_csv('/content/sample_data/new_zomato.csv')\n",
        "print(df.columns)\n"
      ],
      "metadata": {
        "colab": {
          "base_uri": "https://localhost:8080/"
        },
        "id": "2hrwcGVvyLZm",
        "outputId": "267e0be0-f861-4a19-fb3e-9a0616e12b71"
      },
      "execution_count": null,
      "outputs": [
        {
          "output_type": "stream",
          "name": "stdout",
          "text": [
            "Index(['Restaurant ID', 'Restaurant Name', 'Country Code', 'City', 'Address',\n",
            "       'Locality', 'Locality Verbose', 'Longitude', 'Latitude', 'Cuisines',\n",
            "       'Average Cost for two', 'Currency', 'Has Table booking',\n",
            "       'Has Online delivery', 'Is delivering now', 'Switch to order menu',\n",
            "       'Price range', 'Aggregate rating', 'Rating color', 'Rating text',\n",
            "       'Votes', 'Country Name'],\n",
            "      dtype='object')\n"
          ]
        }
      ]
    },
    {
      "cell_type": "code",
      "source": [
        "import pandas as pd\n",
        "\n",
        "# Read the CSV file into a DataFrame\n",
        "df = pd.read_csv('/content/sample_data/new_zomato.csv')\n",
        "\n",
        "# Group by 'Country Name' and 'Rating text', and count the occurrences\n",
        "grouped_data = df.groupby(['Country Name', 'Rating text']).size().unstack()\n",
        "\n",
        "# Print the grouped data\n",
        "print(grouped_data)\n"
      ],
      "metadata": {
        "colab": {
          "base_uri": "https://localhost:8080/"
        },
        "id": "RUHXa6tj0lP9",
        "outputId": "0855d208-2093-48d9-b50d-025485945d15"
      },
      "execution_count": null,
      "outputs": [
        {
          "output_type": "stream",
          "name": "stdout",
          "text": [
            "Rating text     Average  Excellent    Good  Not rated   Poor  Very Good\n",
            "Country Name                                                           \n",
            "Australia           4.0        1.0    13.0        NaN    1.0        5.0\n",
            "Brazil              8.0       16.0    11.0        5.0    NaN       20.0\n",
            "Canada              2.0        NaN     1.0        NaN    NaN        1.0\n",
            "India            3678.0      116.0  1847.0     2139.0  180.0      692.0\n",
            "Indonesia           1.0        7.0     3.0        NaN    NaN       10.0\n",
            "New Zealand         NaN       12.0     2.0        NaN    1.0       25.0\n",
            "Philippines         NaN       12.0     1.0        NaN    NaN        9.0\n",
            "Qatar               2.0        4.0     7.0        NaN    NaN        7.0\n",
            "Singapore           8.0        NaN     8.0        NaN    NaN        3.0\n",
            "South Africa        1.0       12.0    12.0        NaN    NaN       35.0\n",
            "Sri Lanka           2.0        2.0     4.0        NaN    1.0       11.0\n",
            "Turkey              1.0       10.0     3.0        NaN    NaN       20.0\n",
            "UAE                 1.0       18.0     9.0        NaN    1.0       31.0\n",
            "United Kingdom      5.0       23.0    20.0        1.0    NaN       31.0\n",
            "United States      23.0       68.0   159.0        3.0    2.0      179.0\n"
          ]
        }
      ]
    },
    {
      "cell_type": "code",
      "source": [
        "total_ratings_by_country = df.groupby('Country Name')['Rating text'].count()\n",
        "\n",
        "# Print the total ratings by country\n",
        "print(total_ratings_by_country)"
      ],
      "metadata": {
        "colab": {
          "base_uri": "https://localhost:8080/"
        },
        "id": "WrKfjaME10iS",
        "outputId": "7b90ecdb-fe10-4614-a2b9-387122765a08"
      },
      "execution_count": null,
      "outputs": [
        {
          "output_type": "stream",
          "name": "stdout",
          "text": [
            "Country Name\n",
            "Australia           24\n",
            "Brazil              60\n",
            "Canada               4\n",
            "India             8652\n",
            "Indonesia           21\n",
            "New Zealand         40\n",
            "Philippines         22\n",
            "Qatar               20\n",
            "Singapore           19\n",
            "South Africa        60\n",
            "Sri Lanka           20\n",
            "Turkey              34\n",
            "UAE                 60\n",
            "United Kingdom      80\n",
            "United States      434\n",
            "Name: Rating text, dtype: int64\n"
          ]
        }
      ]
    }
  ],
  "metadata": {
    "colab": {
      "provenance": [],
      "authorship_tag": "ABX9TyNp+5CSIrF2hPm0Kb6YIyYv",
      "include_colab_link": true
    },
    "kernelspec": {
      "display_name": "Python 3",
      "name": "python3"
    },
    "language_info": {
      "name": "python"
    }
  },
  "nbformat": 4,
  "nbformat_minor": 0
}